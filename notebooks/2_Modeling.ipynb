{
  "cells": [
    {
      "cell_type": "markdown",
      "id": "92b65c29",
      "metadata": {
        "id": "92b65c29"
      },
      "source": [
        "# 🤖 Logistic Regression Modeling with SGD"
      ]
    },
    {
      "cell_type": "code",
      "execution_count": 1,
      "id": "f5269238",
      "metadata": {
        "id": "f5269238",
        "outputId": "6eaf2449-e2f0-4e90-8253-98a6068e8149",
        "colab": {
          "base_uri": "https://localhost:8080/"
        }
      },
      "outputs": [
        {
          "output_type": "stream",
          "name": "stdout",
          "text": [
            "--2025-04-29 05:08:06--  https://raw.githubusercontent.com/sdballpark/sgd-logistic-regression/main/data/raw/classification_data.csv\n",
            "Resolving raw.githubusercontent.com (raw.githubusercontent.com)... 185.199.108.133, 185.199.109.133, 185.199.110.133, ...\n",
            "Connecting to raw.githubusercontent.com (raw.githubusercontent.com)|185.199.108.133|:443... connected.\n",
            "HTTP request sent, awaiting response... 200 OK\n",
            "Length: 60365 (59K) [text/plain]\n",
            "Saving to: ‘data/raw/classification_data.csv’\n",
            "\n",
            "\r          data/raw/   0%[                    ]       0  --.-KB/s               \rdata/raw/classifica 100%[===================>]  58.95K  --.-KB/s    in 0.01s   \n",
            "\n",
            "2025-04-29 05:08:06 (4.10 MB/s) - ‘data/raw/classification_data.csv’ saved [60365/60365]\n",
            "\n"
          ]
        }
      ],
      "source": [
        "# Auto-download dataset if running in Colab\n",
        "import os\n",
        "if 'google.colab' in str(get_ipython()):\n",
        "    !mkdir -p data/raw\n",
        "    !wget -O data/raw/classification_data.csv https://raw.githubusercontent.com/sdballpark/sgd-logistic-regression/main/data/raw/classification_data.csv\n"
      ]
    },
    {
      "cell_type": "code",
      "execution_count": 2,
      "id": "4274d29d",
      "metadata": {
        "id": "4274d29d",
        "outputId": "9792b1d6-30dc-463c-fc00-69e174780d34",
        "colab": {
          "base_uri": "https://localhost:8080/",
          "height": 524
        }
      },
      "outputs": [
        {
          "output_type": "stream",
          "name": "stdout",
          "text": [
            "Manual SGD Accuracy: 0.9200\n",
            "sklearn SGDClassifier Accuracy: 0.9100\n"
          ]
        },
        {
          "output_type": "display_data",
          "data": {
            "text/plain": [
              "<Figure size 640x480 with 2 Axes>"
            ],
            "image/png": "[encoded data removed]"
          },
          "metadata": {}
        },
        {
          "output_type": "stream",
          "name": "stdout",
          "text": [
            "ROC-AUC Score: 0.9133\n"
          ]
        }
      ],
      "source": [
        "import pandas as pd\n",
        "import numpy as np\n",
        "from sklearn.model_selection import train_test_split\n",
        "from sklearn.linear_model import SGDClassifier\n",
        "from sklearn.metrics import accuracy_score, confusion_matrix, roc_auc_score\n",
        "import matplotlib.pyplot as plt\n",
        "import seaborn as sns\n",
        "\n",
        "# Load Data\n",
        "df = pd.read_csv('data/raw/classification_data.csv')\n",
        "X = df[['feature1', 'feature2', 'feature3']].values\n",
        "y = df['label'].values\n",
        "\n",
        "X_train, X_test, y_train, y_test = train_test_split(X, y, test_size=0.2, random_state=42)\n",
        "\n",
        "# Manual SGD\n",
        "class ManualSGDLogisticRegression:\n",
        "    def __init__(self, lr=0.01, epochs=1000):\n",
        "        self.lr = lr\n",
        "        self.epochs = epochs\n",
        "\n",
        "    def sigmoid(self, z):\n",
        "        return 1 / (1 + np.exp(-z))\n",
        "\n",
        "    def fit(self, X, y):\n",
        "        self.weights = np.zeros(X.shape[1])\n",
        "        self.bias = 0\n",
        "        for epoch in range(self.epochs):\n",
        "            idx = np.random.randint(0, X.shape[0])\n",
        "            xi = X[idx]\n",
        "            yi = y[idx]\n",
        "            linear_model = np.dot(xi, self.weights) + self.bias\n",
        "            y_predicted = self.sigmoid(linear_model)\n",
        "\n",
        "            dw = (y_predicted - yi) * xi\n",
        "            db = (y_predicted - yi)\n",
        "\n",
        "            self.weights -= self.lr * dw\n",
        "            self.bias -= self.lr * db\n",
        "\n",
        "    def predict(self, X):\n",
        "        linear_model = np.dot(X, self.weights) + self.bias\n",
        "        y_predicted = self.sigmoid(linear_model)\n",
        "        return np.where(y_predicted >= 0.5, 1, 0)\n",
        "\n",
        "# Train Manual Model\n",
        "model_manual = ManualSGDLogisticRegression(lr=0.01, epochs=5000)\n",
        "model_manual.fit(X_train, y_train)\n",
        "predictions_manual = model_manual.predict(X_test)\n",
        "\n",
        "print(f\"Manual SGD Accuracy: {accuracy_score(y_test, predictions_manual):.4f}\")\n",
        "\n",
        "# Train with sklearn SGDClassifier\n",
        "model_sklearn = SGDClassifier(loss='log_loss', random_state=42)\n",
        "model_sklearn.fit(X_train, y_train)\n",
        "predictions_sklearn = model_sklearn.predict(X_test)\n",
        "\n",
        "print(f\"sklearn SGDClassifier Accuracy: {accuracy_score(y_test, predictions_sklearn):.4f}\")\n",
        "\n",
        "# Confusion Matrix\n",
        "sns.heatmap(confusion_matrix(y_test, predictions_sklearn), annot=True, fmt='d', cmap='Blues')\n",
        "plt.title('Confusion Matrix - sklearn SGDClassifier')\n",
        "plt.xlabel('Predicted')\n",
        "plt.ylabel('True')\n",
        "plt.show()\n",
        "\n",
        "# ROC-AUC\n",
        "print(f\"ROC-AUC Score: {roc_auc_score(y_test, predictions_sklearn):.4f}\")\n"
      ]
    }
  ],
  "metadata": {
    "colab": {
      "provenance": []
    },
    "language_info": {
      "name": "python"
    },
    "kernelspec": {
      "name": "python3",
      "display_name": "Python 3"
    }
  },
  "nbformat": 4,
  "nbformat_minor": 5
}