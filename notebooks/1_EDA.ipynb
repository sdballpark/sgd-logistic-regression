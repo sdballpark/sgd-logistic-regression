{
 "cells": [
  {
   "cell_type": "markdown",
   "id": "17cbc133",
   "metadata": {},
   "source": [
    "# 📊 Exploratory Data Analysis (EDA)"
   ]
  },
  {
   "cell_type": "code",
   "execution_count": null,
   "id": "17bb569d",
   "metadata": {},
   "outputs": [],
   "source": [
    "# Auto-download dataset if running in Colab\n",
    "import os\n",
    "if 'google.colab' in str(get_ipython()):\n",
    "    !mkdir -p data/raw\n",
    "    !wget -O data/raw/classification_data.csv https://raw.githubusercontent.com/sdballpark/sgd-logistic-regression/main/data/raw/classification_data.csv\n"
   ]
  },
  {
   "cell_type": "code",
   "execution_count": null,
   "id": "f21aff35",
   "metadata": {},
   "outputs": [],
   "source": [
    "import pandas as pd\n",
    "import seaborn as sns\n",
    "import matplotlib.pyplot as plt\n",
    "\n",
    "df = pd.read_csv('data/raw/classification_data.csv')\n",
    "print(df.head())\n",
    "\n",
    "sns.pairplot(df, hue='label')\n",
    "plt.show()\n"
   ]
  }
 ],
 "metadata": {},
 "nbformat": 4,
 "nbformat_minor": 5
}
